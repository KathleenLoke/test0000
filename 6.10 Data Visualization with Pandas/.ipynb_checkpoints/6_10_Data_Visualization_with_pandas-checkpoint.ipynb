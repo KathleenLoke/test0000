{
 "cells": [
  {
   "cell_type": "code",
   "execution_count": null,
   "metadata": {
    "id": "aitu8HKYl82L"
   },
   "outputs": [],
   "source": [
    "import pandas as pd\n",
    "import numpy as np\n",
    "import matplotlib.pyplot as plt"
   ]
  },
  {
   "cell_type": "code",
   "execution_count": null,
   "metadata": {
    "id": "KKdYwa2Cl82P"
   },
   "outputs": [],
   "source": [
    "# 5.1 Line Plot\n",
    "\n",
    "# A. Make a dataframe called foot using the \"international_football_results.csv\" file\n",
    "#    Perform a few exploratory data analysis operations before working with the data set\n",
    "\n",
    "foot = pd.read_csv(\"international_football_results.csv\")\n",
    "\n",
    "# We'll use the .to_datetime method and .dt.year property to set the \"year\" column from a string to an integer\n",
    "\n",
    "foot['year'] = pd.to_datetime(foot['date']).dt.year"
   ]
  },
  {
   "cell_type": "code",
   "execution_count": null,
   "metadata": {
    "id": "vLsUrsC6l82Q"
   },
   "outputs": [],
   "source": [
    "# B. Let's chart how many games occured in each year:\n",
    "\n",
    "# First of all, let's look at the data we're going to plot\n",
    "\n",
    "foot['year'].value_counts()"
   ]
  },
  {
   "cell_type": "code",
   "execution_count": null,
   "metadata": {
    "id": "X-ZXt_Hkl82Q"
   },
   "outputs": [],
   "source": [
    "# The years are out of order! Fortunately, we can sort our column by its index with sort_index()\n",
    "foot['year'].value_counts().sort_index()"
   ]
  },
  {
   "cell_type": "code",
   "execution_count": null,
   "metadata": {
    "id": "-ZCJAb5yl82Q"
   },
   "outputs": [],
   "source": [
    "# Finally, we're ready to plot the change over time with .plot()\n",
    "foot['year'].value_counts().sort_index().plot()"
   ]
  },
  {
   "cell_type": "code",
   "execution_count": null,
   "metadata": {
    "id": "I6xqpCbHl82R"
   },
   "outputs": [],
   "source": [
    "# 5.2 Bar Charts\n",
    "# A. Let's see how many games each country played, represented as a bar chart\n",
    "foot['country'].value_counts().head().plot(kind=\"bar\")"
   ]
  },
  {
   "cell_type": "code",
   "execution_count": null,
   "metadata": {
    "id": "dOLA8C4Wl82R"
   },
   "outputs": [],
   "source": [
    "# B. Now let's plot the occurence of specific scores for the home team\n"
   ]
  },
  {
   "cell_type": "code",
   "execution_count": null,
   "metadata": {
    "id": "6UeqFlYDl82S"
   },
   "outputs": [],
   "source": [
    "# C. Instead of sorting from highest to lowest value, let's sort the x axis in ascending order\n"
   ]
  },
  {
   "cell_type": "code",
   "execution_count": null,
   "metadata": {
    "id": "Sh3-wuWUl82T"
   },
   "outputs": [],
   "source": [
    "# BONUS: Compare the home_score and away_score value counts to analyze home field advantage\n",
    "# You will need to use the .apply method to use value_counts on each column of a dataframe\n"
   ]
  },
  {
   "cell_type": "code",
   "execution_count": null,
   "metadata": {
    "id": "8973knL6l82T"
   },
   "outputs": [],
   "source": [
    "# 5.3 Histograms\n",
    "# A. Let's start with a new dataset. Create a dataframe called choc from the 'chocolate_ratings.csv' file\n",
    "#    Inspect the data using some exploratory data analysis methods\n",
    "\n",
    "choc = pd.read_csv('chocolate_ratings.csv')\n",
    "choc.columns\n",
    "pd.DataFrame(choc.dtypes, columns=[\"DataType\"])"
   ]
  },
  {
   "cell_type": "code",
   "execution_count": null,
   "metadata": {
    "id": "HG6q0YsDl82U"
   },
   "outputs": [],
   "source": [
    "# B. Now, let's explore the distribution of ratings\n",
    "#    i. Start by plotting the Rating column in a histogram\n",
    "choc['Rating'].plot(kind=\"hist\")"
   ]
  },
  {
   "cell_type": "code",
   "execution_count": null,
   "metadata": {
    "id": "ZiEvUPtZl82U"
   },
   "outputs": [],
   "source": [
    "#    ii. Looking good! Let's see how granular we can get\n",
    "#        Modify the number of bins to change how ranges are distributed\n"
   ]
  },
  {
   "cell_type": "code",
   "execution_count": null,
   "metadata": {
    "id": "T0CEsWL3l82U"
   },
   "outputs": [],
   "source": [
    "#    iii. Now, let's add some descriptive labels to our chart using matplotlib\n"
   ]
  },
  {
   "cell_type": "code",
   "execution_count": null,
   "metadata": {
    "id": "XwQhVx-Wl82U",
    "scrolled": false
   },
   "outputs": [],
   "source": [
    "# 5.4 Scatter Plots\n",
    "# A. Is there a connection between Review Date and Rating? Plot them with a scatter plot\n",
    "choc.plot(kind=\"scatter\", x=\"Review\\nDate\", y=\"Rating\" )\n",
    "# Why is this graph not so helpful?"
   ]
  },
  {
   "cell_type": "code",
   "execution_count": null,
   "metadata": {
    "id": "9afB0H3Kl82V"
   },
   "outputs": [],
   "source": [
    "# B. Create a dataframe called avo from 'avocado.csv'.  Explore this new dataframe, then scatter plot correlation between Total Volume and AveragePrice\n",
    "avo = pd.read_csv('avocado.csv')\n",
    "avo.plot(kind='scatter', x='Total Volume', y='AveragePrice')"
   ]
  },
  {
   "cell_type": "code",
   "execution_count": null,
   "metadata": {
    "id": "d8NSLwQNl82V"
   },
   "outputs": [],
   "source": [
    "# 5.5 Visualizations to Hypotheses\n",
    "# Create visualizations around any of the above datasets or our superstore datasets\n",
    "# For at least one of the visualizations, attach a hypothesis or specific claim the chart supports"
   ]
  }
 ],
 "metadata": {
  "colab": {
   "collapsed_sections": [],
   "name": "6_10_Data_Visualization_with_pandas.ipynb",
   "provenance": []
  },
  "kernelspec": {
   "display_name": "Python 3",
   "language": "python",
   "name": "python3"
  },
  "language_info": {
   "codemirror_mode": {
    "name": "ipython",
    "version": 3
   },
   "file_extension": ".py",
   "mimetype": "text/x-python",
   "name": "python",
   "nbconvert_exporter": "python",
   "pygments_lexer": "ipython3",
   "version": "3.8.8"
  }
 },
 "nbformat": 4,
 "nbformat_minor": 1
}
